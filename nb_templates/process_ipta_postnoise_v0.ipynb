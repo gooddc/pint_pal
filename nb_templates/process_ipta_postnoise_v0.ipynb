{
 "cells": [
  {
   "cell_type": "markdown",
   "metadata": {},
   "source": [
    "# \\[set-up\\], imports\n",
    "See README for more details about installing necessary packages and setting up your environment."
   ]
  },
  {
   "cell_type": "code",
   "execution_count": 2,
   "metadata": {},
   "outputs": [
    {
     "name": "stdout",
     "output_type": "stream",
     "text": [
      "Intel MKL WARNING: Support of Intel(R) Streaming SIMD Extensions 4.2 (Intel(R) SSE4.2) enabled only processors has been deprecated. Intel oneAPI Math Kernel Library 2025.0 will require Intel(R) Advanced Vector Extensions (Intel(R) AVX) instructions.\n",
      "Intel MKL WARNING: Support of Intel(R) Streaming SIMD Extensions 4.2 (Intel(R) SSE4.2) enabled only processors has been deprecated. Intel oneAPI Math Kernel Library 2025.0 will require Intel(R) Advanced Vector Extensions (Intel(R) AVX) instructions.\n"
     ]
    },
    {
     "data": {
      "text/plain": [
       "1"
      ]
     },
     "execution_count": 2,
     "metadata": {},
     "output_type": "execute_result"
    }
   ],
   "source": [
    "import pint_pal as pp\n",
    "import pint_pal.report\n",
    "import pint_pal.lite_utils as lu\n",
    "import pint_pal.plot_utils as pu\n",
    "from pint_pal.timingconfiguration import TimingConfiguration\n",
    "from astropy import log\n",
    "from pint.fitter import ConvergenceFailure\n",
    "import pint.fitter\n",
    "import os\n",
    "import sys\n",
    "import copy\n",
    "from astropy.visualization import quantity_support\n",
    "quantity_support()\n",
    "\n",
    "# notebook gives interactive plots but not until the kernel is done\n",
    "%matplotlib notebook\n",
    "# inline gives non-interactive plots right away\n",
    "#%matplotlib inline\n",
    "\n",
    "# Set logging level (PINT uses loguru)\n",
    "log.setLevel(\"INFO\") # Set desired verbosity of log statements (DEBUG/INFO/WARNING/ERROR)\n",
    "pint.logging.setup(level=\"WARNING\", usecolors=True)"
   ]
  },
  {
   "cell_type": "code",
   "execution_count": 4,
   "metadata": {},
   "outputs": [],
   "source": [
    "hasnoise = False\n",
    "if hasnoise == False:\n",
    "    ext = '_prenoise'\n",
    "else:\n",
    "    ext = '_postnoise'"
   ]
  },
  {
   "cell_type": "markdown",
   "metadata": {},
   "source": [
    "# develop/update timing solution\n",
    "\n",
    "Load configuration (`.yaml`) file, get TOAs and timing model; if you're running from the root of the git distribution, simply edit the `.yaml` file name, otherwise include relevant paths to the `.yaml` file, and `.par`/`.tim` directories as kwargs (see commented example)."
   ]
  },
  {
   "cell_type": "code",
   "execution_count": null,
   "metadata": {},
   "outputs": [],
   "source": [
    "config = \"configs/[psr_name].[nb or wb].yaml\"  # fill in actual path\n",
    "par_directory = None   # default location\n",
    "tim_directory = None   # default location\n",
    "tc = TimingConfiguration(config, par_directory=par_directory, tim_directory=tim_directory)\n",
    "\n",
    "# Summary report will be added to throughout the notebook & rendered at the end\n",
    "report = pint_pal.report.Report(title=f\"{tc.get_source()} PINT combination summary\")\n",
    "report.add_markdown(\"Software\", f\"Python version: {sys.version.split()[0]}\")\n",
    "report.add_markdown(\"Software\", f\"PINT version: {pint.__version__}\")\n",
    "report.add_markdown(\"Software\", f\"PINT Pal version: {pp.__version__}\")\n",
    "\n",
    "# To combine TOAs, assumption is that cuts have already been applied properly\n",
    "mo,to = tc.get_model_and_toas(apply_initial_cuts=False,usepickle=False)\n",
    "\n",
    "# Apply manual cuts\n",
    "tc.manual_cuts(to)\n",
    "\n",
    "# Computing pulse numbers ensures param changes in the model will not break phase connection\n",
    "to.compute_pulse_numbers(mo)\n",
    "\n",
    "# Set non-binary epochs to the center of the data span\n",
    "lu.center_epochs(mo,to)\n",
    "\n",
    "# Summarize TOAs present\n",
    "summary = to.get_summary()\n",
    "report.add_markdown(\"Summary of TOAs\", f\"```\\n{summary}```\")"
   ]
  },
  {
   "cell_type": "code",
   "execution_count": null,
   "metadata": {},
   "outputs": [],
   "source": [
    "# Define the fitter object and plot pre-fit residuals\n",
    "fo = tc.construct_fitter(to,mo)\n",
    "pu.plot_residuals_time(fo, restype='prefit', legend=False)\n",
    "report.add_plot(\"Prefit residuals\")\n",
    "if mo.is_binary:\n",
    "    pu.plot_residuals_orb(fo, restype='prefit', legend=False)\n",
    "    report.add_plot(\"Prefit residuals\")"
   ]
  },
  {
   "cell_type": "code",
   "execution_count": null,
   "metadata": {},
   "outputs": [],
   "source": [
    "# Set free params based on list in the config file (want to update JUMP handling differently soon)\n",
    "fo.model.free_params = tc.get_free_params(fo)\n",
    "\n",
    "# Do the fit\n",
    "try:\n",
    "    fo.fit_toas(maxiter=tc.get_niter())\n",
    "    fo.model.CHI2.value = fo.resids.chi2\n",
    "except ConvergenceFailure:\n",
    "    run_Ftest = False\n",
    "    log.warning('Failed to converge; moving on with best result, but should address before final version.')"
   ]
  },
  {
   "cell_type": "code",
   "execution_count": null,
   "metadata": {},
   "outputs": [],
   "source": [
    "# Plot post-fit residuals, print summary of results, write prenoise solution\n",
    "pu.plot_residuals_time(fo, restype='postfit', legend=False)\n",
    "report.add_plot(\"Postfit residuals\")\n",
    "if mo.is_binary:\n",
    "    pu.plot_residuals_orb(fo, restype='postfit', legend=False)\n",
    "    report.add_plot(\"Postfit residuals\")\n",
    "    \n",
    "summary = fo.get_summary()\n",
    "report.add_markdown(\"Fit summary\", f\"```\\n{summary}\\n```\")\n",
    "lu.check_convergence(fo)\n",
    "\n",
    "lu.write_par(fo,toatype=tc.get_toa_type(),addext=ext)"
   ]
  },
  {
   "cell_type": "code",
   "execution_count": null,
   "metadata": {},
   "outputs": [],
   "source": [
    "# Look at the whitened residuals as well if noise analysis has been completed.\n",
    "if hasnoise == True:\n",
    "    pu.plot_residuals_time(fo, restype='postfit', whitened=True, avg=True, mixed_ecorr=True, legend=True)\n",
    "    report.add_plot(\"Postfit whitened residuals\")\n",
    "    if mo.is_binary:\n",
    "        pu.plot_residuals_orb(fo, restype='postfit', whitened=True, avg=True, mixed_ecorr=True, legend=True)\n",
    "        report.add_plot(\"Postfit whitened residuals\")"
   ]
  },
  {
   "cell_type": "markdown",
   "metadata": {},
   "source": [
    "# F-test for additional parameters"
   ]
  },
  {
   "cell_type": "markdown",
   "metadata": {},
   "source": [
    "Note: This is a time consuming section and should only be run if workign with data with a noise solution. "
   ]
  },
  {
   "cell_type": "code",
   "execution_count": null,
   "metadata": {},
   "outputs": [],
   "source": [
    "\n",
    "run_Ftest = False\n",
    "Ftest_dict = None\n",
    "if run_Ftest:\n",
    "    savedLevel = log.getEffectiveLevel()\n",
    "    try:\n",
    "        log.setLevel(\"WARNING\")\n",
    "        Ftest_dict = run_Ftests(fo, \n",
    "                                alpha=0.0027, \n",
    "                                NITS=tc.get_niter())\n",
    "    finally:\n",
    "        log.setLevel(savedLevel)\n",
    "\n",
    "report.add_markdown(\"F-test summary\", f\"```\\n{Ftest_dict}\\n```\")"
   ]
  },
  {
   "cell_type": "markdown",
   "metadata": {},
   "source": [
    "# generate \\[summary\\] report"
   ]
  },
  {
   "cell_type": "code",
   "execution_count": null,
   "metadata": {},
   "outputs": [],
   "source": [
    "# Generate the PDF report\n",
    "report.generate_pdf(f\"{tc.get_source()}-pint-summary.pdf\")"
   ]
  }
 ],
 "metadata": {
  "kernelspec": {
   "display_name": "Python 3 (ipykernel)",
   "language": "python",
   "name": "python3"
  },
  "language_info": {
   "codemirror_mode": {
    "name": "ipython",
    "version": 3
   },
   "file_extension": ".py",
   "mimetype": "text/x-python",
   "name": "python",
   "nbconvert_exporter": "python",
   "pygments_lexer": "ipython3",
   "version": "3.9.18"
  }
 },
 "nbformat": 4,
 "nbformat_minor": 4
}
